{
 "cells": [
  {
   "cell_type": "code",
   "execution_count": 1,
   "metadata": {},
   "outputs": [],
   "source": [
    "import pandas as pd\n",
    "import numpy as np\n",
    "import matplotlib.pyplot as plt\n",
    "import seaborn as sns   \n",
    "\n",
    "uni = pd.read_csv(\"Predict Student Dropout and Academic Success.csv\", delimiter=\";\")"
   ]
  },
  {
   "cell_type": "code",
   "execution_count": 2,
   "metadata": {},
   "outputs": [
    {
     "name": "stdout",
     "output_type": "stream",
     "text": [
      "Index(['Marital status', 'Application mode', 'Application order', 'Course',\n",
      "       'Daytime/evening attendance\\t', 'Previous qualification',\n",
      "       'Previous qualification (grade)', 'Nacionality',\n",
      "       'Mother's qualification', 'Father's qualification',\n",
      "       'Mother's occupation', 'Father's occupation', 'Admission grade',\n",
      "       'Displaced', 'Educational special needs', 'Debtor',\n",
      "       'Tuition fees up to date', 'Gender', 'Scholarship holder',\n",
      "       'Age at enrollment', 'International',\n",
      "       'Curricular units 1st sem (credited)',\n",
      "       'Curricular units 1st sem (enrolled)',\n",
      "       'Curricular units 1st sem (evaluations)',\n",
      "       'Curricular units 1st sem (approved)',\n",
      "       'Curricular units 1st sem (grade)',\n",
      "       'Curricular units 1st sem (without evaluations)',\n",
      "       'Curricular units 2nd sem (credited)',\n",
      "       'Curricular units 2nd sem (enrolled)',\n",
      "       'Curricular units 2nd sem (evaluations)',\n",
      "       'Curricular units 2nd sem (approved)',\n",
      "       'Curricular units 2nd sem (grade)',\n",
      "       'Curricular units 2nd sem (without evaluations)', 'Unemployment rate',\n",
      "       'Inflation rate', 'GDP', 'Target'],\n",
      "      dtype='object')\n"
     ]
    }
   ],
   "source": [
    "print(uni.columns)\n"
   ]
  },
  {
   "cell_type": "code",
   "execution_count": 3,
   "metadata": {},
   "outputs": [
    {
     "name": "stdout",
     "output_type": "stream",
     "text": [
      "   Marital status  Application mode  Application order  Course  \\\n",
      "0               1                17                  5     171   \n",
      "1               1                15                  1    9254   \n",
      "2               1                 1                  5    9070   \n",
      "3               1                17                  2    9773   \n",
      "4               2                39                  1    8014   \n",
      "\n",
      "   Daytime/evening attendance\\t  Previous qualification  \\\n",
      "0                             1                       1   \n",
      "1                             1                       1   \n",
      "2                             1                       1   \n",
      "3                             1                       1   \n",
      "4                             0                       1   \n",
      "\n",
      "   Previous qualification (grade)  Nacionality  Mother's qualification  \\\n",
      "0                           122.0            1                      19   \n",
      "1                           160.0            1                       1   \n",
      "2                           122.0            1                      37   \n",
      "3                           122.0            1                      38   \n",
      "4                           100.0            1                      37   \n",
      "\n",
      "   Father's qualification  ...  Curricular units 2nd sem (credited)  \\\n",
      "0                      12  ...                                    0   \n",
      "1                       3  ...                                    0   \n",
      "2                      37  ...                                    0   \n",
      "3                      37  ...                                    0   \n",
      "4                      38  ...                                    0   \n",
      "\n",
      "   Curricular units 2nd sem (enrolled)  \\\n",
      "0                                    0   \n",
      "1                                    6   \n",
      "2                                    6   \n",
      "3                                    6   \n",
      "4                                    6   \n",
      "\n",
      "   Curricular units 2nd sem (evaluations)  \\\n",
      "0                                       0   \n",
      "1                                       6   \n",
      "2                                       0   \n",
      "3                                      10   \n",
      "4                                       6   \n",
      "\n",
      "   Curricular units 2nd sem (approved)  Curricular units 2nd sem (grade)  \\\n",
      "0                                    0                          0.000000   \n",
      "1                                    6                         13.666667   \n",
      "2                                    0                          0.000000   \n",
      "3                                    5                         12.400000   \n",
      "4                                    6                         13.000000   \n",
      "\n",
      "   Curricular units 2nd sem (without evaluations)  Unemployment rate  \\\n",
      "0                                               0               10.8   \n",
      "1                                               0               13.9   \n",
      "2                                               0               10.8   \n",
      "3                                               0                9.4   \n",
      "4                                               0               13.9   \n",
      "\n",
      "   Inflation rate   GDP    Target  \n",
      "0             1.4  1.74   Dropout  \n",
      "1            -0.3  0.79  Graduate  \n",
      "2             1.4  1.74   Dropout  \n",
      "3            -0.8 -3.12  Graduate  \n",
      "4            -0.3  0.79  Graduate  \n",
      "\n",
      "[5 rows x 37 columns]\n"
     ]
    }
   ],
   "source": [
    "print(uni.head())"
   ]
  },
  {
   "cell_type": "code",
   "execution_count": 4,
   "metadata": {},
   "outputs": [
    {
     "data": {
      "text/plain": [
       "array(['Dropout', 'Graduate', 'Enrolled'], dtype=object)"
      ]
     },
     "execution_count": 4,
     "metadata": {},
     "output_type": "execute_result"
    }
   ],
   "source": [
    "uni[\"Target\"].unique()"
   ]
  },
  {
   "cell_type": "code",
   "execution_count": 5,
   "metadata": {},
   "outputs": [
    {
     "name": "stdout",
     "output_type": "stream",
     "text": [
      "Curricular units 2nd sem (approved)               0.150329\n",
      "Curricular units 2nd sem (grade)                  0.106078\n",
      "Curricular units 1st sem (approved)               0.080155\n",
      "Curricular units 1st sem (grade)                  0.062638\n",
      "Admission grade                                   0.042832\n",
      "Curricular units 2nd sem (evaluations)            0.041483\n",
      "Tuition fees up to date                           0.040705\n",
      "Age at enrollment                                 0.039596\n",
      "Previous qualification (grade)                    0.037062\n",
      "Curricular units 1st sem (evaluations)            0.036760\n",
      "Course                                            0.033537\n",
      "Father's occupation                               0.029252\n",
      "Mother's occupation                               0.025283\n",
      "GDP                                               0.023030\n",
      "Father's qualification                            0.021760\n",
      "Unemployment rate                                 0.021758\n",
      "Inflation rate                                    0.021440\n",
      "Application mode                                  0.021393\n",
      "Mother's qualification                            0.021289\n",
      "Curricular units 2nd sem (enrolled)               0.021109\n",
      "Curricular units 1st sem (enrolled)               0.020433\n",
      "Scholarship holder                                0.017058\n",
      "Application order                                 0.014368\n",
      "Debtor                                            0.012024\n",
      "Gender                                            0.010390\n",
      "Displaced                                         0.007958\n",
      "Curricular units 1st sem (credited)               0.007229\n",
      "Curricular units 2nd sem (credited)               0.005885\n",
      "Previous qualification                            0.005670\n",
      "Curricular units 1st sem (without evaluations)    0.005057\n",
      "Curricular units 2nd sem (without evaluations)    0.004954\n",
      "Marital status                                    0.003832\n",
      "Daytime/evening attendance\\t                      0.002645\n",
      "Nacionality                                       0.002376\n",
      "International                                     0.001485\n",
      "Educational special needs                         0.001146\n",
      "dtype: float64\n"
     ]
    }
   ],
   "source": [
    "from sklearn.ensemble import RandomForestClassifier\n",
    "\n",
    "# Drop target column for features\n",
    "X = uni.drop(columns=['Target'])\n",
    "y = uni['Target']\n",
    "\n",
    "# Encode categorical variables\n",
    "X_encoded = pd.get_dummies(X)\n",
    "\n",
    "model = RandomForestClassifier()\n",
    "model.fit(X_encoded, y)\n",
    "\n",
    "# Feature importance\n",
    "importances = pd.Series(model.feature_importances_, index=X_encoded.columns)\n",
    "print(importances.sort_values(ascending=False))\n"
   ]
  },
  {
   "cell_type": "markdown",
   "metadata": {},
   "source": [
    "Lowest Important Features: Nacionality, International, Educational Special Needs\n",
    "\n",
    "Medium: GDP, Unemployment rate, Inflation rate\n",
    "\n",
    "High: Curricular Units, Admission Grade "
   ]
  },
  {
   "cell_type": "code",
   "execution_count": 6,
   "metadata": {},
   "outputs": [],
   "source": [
    "uni['Pass Rate 1st Sem'] = uni['Curricular units 1st sem (approved)'] / uni['Curricular units 1st sem (enrolled)']\n",
    "uni['Pass Rate 2nd Sem'] = uni['Curricular units 2nd sem (approved)'] / uni['Curricular units 2nd sem (enrolled)']\n",
    "\n",
    "uni['Pass Rate 1st Sem'] = uni['Pass Rate 1st Sem'].fillna(0)\n",
    "uni['Pass Rate 2nd Sem'] = uni['Pass Rate 2nd Sem'].fillna(0)\n"
   ]
  },
  {
   "cell_type": "code",
   "execution_count": 7,
   "metadata": {},
   "outputs": [],
   "source": [
    "X = uni[['Pass Rate 1st Sem', 'Pass Rate 2nd Sem', 'Admission grade']]\n",
    "y = uni['Target']"
   ]
  },
  {
   "cell_type": "code",
   "execution_count": 8,
   "metadata": {},
   "outputs": [
    {
     "name": "stdout",
     "output_type": "stream",
     "text": [
      "['Dropout' 'Enrolled' 'Graduate']\n"
     ]
    }
   ],
   "source": [
    "from sklearn.preprocessing import LabelEncoder\n",
    "\n",
    "# Encode the target variable\n",
    "label_encoder = LabelEncoder()\n",
    "y_encoded = label_encoder.fit_transform(y)\n",
    "\n",
    "# Check label encoding\n",
    "print(label_encoder.classes_)  # To see the mapping\n",
    "\n"
   ]
  },
  {
   "cell_type": "code",
   "execution_count": 9,
   "metadata": {},
   "outputs": [],
   "source": [
    "from sklearn.model_selection import train_test_split\n",
    "\n",
    "X_train, X_test, y_train, y_test = train_test_split(X, y_encoded, test_size=0.3, random_state=42)\n"
   ]
  },
  {
   "cell_type": "code",
   "execution_count": 10,
   "metadata": {},
   "outputs": [
    {
     "data": {
      "text/html": [
       "<style>#sk-container-id-1 {color: black;background-color: white;}#sk-container-id-1 pre{padding: 0;}#sk-container-id-1 div.sk-toggleable {background-color: white;}#sk-container-id-1 label.sk-toggleable__label {cursor: pointer;display: block;width: 100%;margin-bottom: 0;padding: 0.3em;box-sizing: border-box;text-align: center;}#sk-container-id-1 label.sk-toggleable__label-arrow:before {content: \"▸\";float: left;margin-right: 0.25em;color: #696969;}#sk-container-id-1 label.sk-toggleable__label-arrow:hover:before {color: black;}#sk-container-id-1 div.sk-estimator:hover label.sk-toggleable__label-arrow:before {color: black;}#sk-container-id-1 div.sk-toggleable__content {max-height: 0;max-width: 0;overflow: hidden;text-align: left;background-color: #f0f8ff;}#sk-container-id-1 div.sk-toggleable__content pre {margin: 0.2em;color: black;border-radius: 0.25em;background-color: #f0f8ff;}#sk-container-id-1 input.sk-toggleable__control:checked~div.sk-toggleable__content {max-height: 200px;max-width: 100%;overflow: auto;}#sk-container-id-1 input.sk-toggleable__control:checked~label.sk-toggleable__label-arrow:before {content: \"▾\";}#sk-container-id-1 div.sk-estimator input.sk-toggleable__control:checked~label.sk-toggleable__label {background-color: #d4ebff;}#sk-container-id-1 div.sk-label input.sk-toggleable__control:checked~label.sk-toggleable__label {background-color: #d4ebff;}#sk-container-id-1 input.sk-hidden--visually {border: 0;clip: rect(1px 1px 1px 1px);clip: rect(1px, 1px, 1px, 1px);height: 1px;margin: -1px;overflow: hidden;padding: 0;position: absolute;width: 1px;}#sk-container-id-1 div.sk-estimator {font-family: monospace;background-color: #f0f8ff;border: 1px dotted black;border-radius: 0.25em;box-sizing: border-box;margin-bottom: 0.5em;}#sk-container-id-1 div.sk-estimator:hover {background-color: #d4ebff;}#sk-container-id-1 div.sk-parallel-item::after {content: \"\";width: 100%;border-bottom: 1px solid gray;flex-grow: 1;}#sk-container-id-1 div.sk-label:hover label.sk-toggleable__label {background-color: #d4ebff;}#sk-container-id-1 div.sk-serial::before {content: \"\";position: absolute;border-left: 1px solid gray;box-sizing: border-box;top: 0;bottom: 0;left: 50%;z-index: 0;}#sk-container-id-1 div.sk-serial {display: flex;flex-direction: column;align-items: center;background-color: white;padding-right: 0.2em;padding-left: 0.2em;position: relative;}#sk-container-id-1 div.sk-item {position: relative;z-index: 1;}#sk-container-id-1 div.sk-parallel {display: flex;align-items: stretch;justify-content: center;background-color: white;position: relative;}#sk-container-id-1 div.sk-item::before, #sk-container-id-1 div.sk-parallel-item::before {content: \"\";position: absolute;border-left: 1px solid gray;box-sizing: border-box;top: 0;bottom: 0;left: 50%;z-index: -1;}#sk-container-id-1 div.sk-parallel-item {display: flex;flex-direction: column;z-index: 1;position: relative;background-color: white;}#sk-container-id-1 div.sk-parallel-item:first-child::after {align-self: flex-end;width: 50%;}#sk-container-id-1 div.sk-parallel-item:last-child::after {align-self: flex-start;width: 50%;}#sk-container-id-1 div.sk-parallel-item:only-child::after {width: 0;}#sk-container-id-1 div.sk-dashed-wrapped {border: 1px dashed gray;margin: 0 0.4em 0.5em 0.4em;box-sizing: border-box;padding-bottom: 0.4em;background-color: white;}#sk-container-id-1 div.sk-label label {font-family: monospace;font-weight: bold;display: inline-block;line-height: 1.2em;}#sk-container-id-1 div.sk-label-container {text-align: center;}#sk-container-id-1 div.sk-container {/* jupyter's `normalize.less` sets `[hidden] { display: none; }` but bootstrap.min.css set `[hidden] { display: none !important; }` so we also need the `!important` here to be able to override the default hidden behavior on the sphinx rendered scikit-learn.org. See: https://github.com/scikit-learn/scikit-learn/issues/21755 */display: inline-block !important;position: relative;}#sk-container-id-1 div.sk-text-repr-fallback {display: none;}</style><div id=\"sk-container-id-1\" class=\"sk-top-container\"><div class=\"sk-text-repr-fallback\"><pre>RandomForestClassifier(random_state=42)</pre><b>In a Jupyter environment, please rerun this cell to show the HTML representation or trust the notebook. <br />On GitHub, the HTML representation is unable to render, please try loading this page with nbviewer.org.</b></div><div class=\"sk-container\" hidden><div class=\"sk-item\"><div class=\"sk-estimator sk-toggleable\"><input class=\"sk-toggleable__control sk-hidden--visually\" id=\"sk-estimator-id-1\" type=\"checkbox\" checked><label for=\"sk-estimator-id-1\" class=\"sk-toggleable__label sk-toggleable__label-arrow\">RandomForestClassifier</label><div class=\"sk-toggleable__content\"><pre>RandomForestClassifier(random_state=42)</pre></div></div></div></div></div>"
      ],
      "text/plain": [
       "RandomForestClassifier(random_state=42)"
      ]
     },
     "execution_count": 10,
     "metadata": {},
     "output_type": "execute_result"
    }
   ],
   "source": [
    "from sklearn.ensemble import RandomForestClassifier\n",
    "\n",
    "# Initialize the model\n",
    "rf_model = RandomForestClassifier(random_state=42)\n",
    "\n",
    "# Train the model\n",
    "rf_model.fit(X_train, y_train)\n"
   ]
  },
  {
   "cell_type": "code",
   "execution_count": 11,
   "metadata": {},
   "outputs": [
    {
     "name": "stdout",
     "output_type": "stream",
     "text": [
      "Accuracy: 0.67\n",
      "Classification Report:\n",
      "              precision    recall  f1-score   support\n",
      "\n",
      "           0       0.66      0.68      0.67       441\n",
      "           1       0.35      0.30      0.32       245\n",
      "           2       0.78      0.81      0.79       642\n",
      "\n",
      "    accuracy                           0.67      1328\n",
      "   macro avg       0.60      0.60      0.60      1328\n",
      "weighted avg       0.66      0.67      0.67      1328\n",
      "\n"
     ]
    },
    {
     "data": {
      "image/png": "[encoded data removed]",
      "text/plain": [
       "<Figure size 640x480 with 2 Axes>"
      ]
     },
     "metadata": {},
     "output_type": "display_data"
    }
   ],
   "source": [
    "from sklearn.metrics import accuracy_score, classification_report, confusion_matrix\n",
    "\n",
    "# Make predictions\n",
    "y_pred = rf_model.predict(X_test)\n",
    "\n",
    "# Evaluate\n",
    "print(f\"Accuracy: {accuracy_score(y_test, y_pred):.2f}\")\n",
    "print(\"Classification Report:\")\n",
    "print(classification_report(y_test, y_pred))\n",
    "\n",
    "# Confusion Matrix\n",
    "import seaborn as sns\n",
    "import matplotlib.pyplot as plt\n",
    "\n",
    "conf_matrix = confusion_matrix(y_test, y_pred)\n",
    "sns.heatmap(conf_matrix, annot=True, fmt=\"d\", cmap=\"Blues\", xticklabels=label_encoder.classes_, yticklabels=label_encoder.classes_)\n",
    "plt.xlabel('Predicted')\n",
    "plt.ylabel('Actual')\n",
    "plt.title('Confusion Matrix')\n",
    "plt.show()\n"
   ]
  }
 ],
 "metadata": {
  "kernelspec": {
   "display_name": "Python 3",
   "language": "python",
   "name": "python3"
  },
  "language_info": {
   "codemirror_mode": {
    "name": "ipython",
    "version": 3
   },
   "file_extension": ".py",
   "mimetype": "text/x-python",
   "name": "python",
   "nbconvert_exporter": "python",
   "pygments_lexer": "ipython3",
   "version": "3.11.3"
  }
 },
 "nbformat": 4,
 "nbformat_minor": 2
}
